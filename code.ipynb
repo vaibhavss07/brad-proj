{
 "cells": [
  {
   "cell_type": "code",
   "execution_count": null,
   "id": "73979fc4-1a9d-4eb2-a82f-897016b0581d",
   "metadata": {},
   "outputs": [],
   "source": [
    "from openai import OpenAI\n",
    "\n",
    "# Initialize API client (Replace with actual API key if running outside a demo environment)\n",
    "client = OpenAI(api_key=\"your_api_key\")\n",
    "\n",
    "def get_response(prompt):\n",
    "    \"\"\"Function to send a prompt to an LLM and retrieve the response.\"\"\"\n",
    "    response = client.Completion.create(\n",
    "        model=\"gpt-4\",  # Specify the model\n",
    "        prompt=prompt,\n",
    "        max_tokens=100\n",
    "    )\n",
    "    return response.choices[0].text.strip()\n"
   ]
  },
  {
   "cell_type": "code",
   "execution_count": null,
   "id": "b5426809-3afd-4740-8038-7014e76d9d74",
   "metadata": {},
   "outputs": [],
   "source": [
    "# Example 1: Basic Prompting (Bad vs. Good)\n",
    "bad_prompt = \"Tell me about marketing.\"\n",
    "good_prompt = \"Explain digital marketing strategies with examples.\"\n",
    "print(\"Bad Prompt Response:\", get_response(bad_prompt))\n",
    "print(\"Good Prompt Response:\", get_response(good_prompt))\n"
   ]
  },
  {
   "cell_type": "code",
   "execution_count": null,
   "id": "110c0832-2b41-479e-b494-0311d6d694b1",
   "metadata": {},
   "outputs": [],
   "source": [
    "\n",
    "# Example 2: Role-based Prompting\n",
    "role_based_prompt = \"You are a marketing expert. Provide three tips for social media growth.\"\n",
    "print(\"Role-Based Prompt Response:\", get_response(role_based_prompt))\n"
   ]
  },
  {
   "cell_type": "code",
   "execution_count": null,
   "id": "86aa96a0-b8a6-42ee-b981-d1b0048b1e4e",
   "metadata": {},
   "outputs": [],
   "source": [
    "\n",
    "# Example 3: Step-by-Step Prompting\n",
    "step_by_step_prompt = \"Explain how to optimize a website for SEO in three steps.\"\n",
    "print(\"Step-by-Step Response:\", get_response(step_by_step_prompt))\n"
   ]
  },
  {
   "cell_type": "code",
   "execution_count": null,
   "id": "82e4e281-882a-4f5f-9381-3fa9275ddca3",
   "metadata": {},
   "outputs": [],
   "source": [
    "\n",
    "# Example 4: Structured Output Prompting\n",
    "structured_prompt = \"Provide a JSON-formatted response with key takeaways from an article on AI ethics.\"\n",
    "print(\"Structured Output Response:\", get_response(structured_prompt))\n"
   ]
  },
  {
   "cell_type": "code",
   "execution_count": null,
   "id": "839fa87a-115d-4b89-a607-75dd005d3126",
   "metadata": {},
   "outputs": [],
   "source": [
    "\n",
    "# Example 5: Avoiding Common Mistakes\n",
    "common_mistake_prompt = \"Write a short story.\"\n",
    "better_prompt = \"Write a 200-word short story about a detective solving a cybercrime, with a twist ending.\"\n",
    "print(\"Common Mistake Response:\", get_response(common_mistake_prompt))\n",
    "print(\"Better Prompt Response:\", get_response(better_prompt))\n"
   ]
  }
 ],
 "metadata": {
  "kernelspec": {
   "display_name": "Python 3 (ipykernel)",
   "language": "python",
   "name": "python3"
  },
  "language_info": {
   "codemirror_mode": {
    "name": "ipython",
    "version": 3
   },
   "file_extension": ".py",
   "mimetype": "text/x-python",
   "name": "python",
   "nbconvert_exporter": "python",
   "pygments_lexer": "ipython3",
   "version": "3.12.7"
  }
 },
 "nbformat": 4,
 "nbformat_minor": 5
}
